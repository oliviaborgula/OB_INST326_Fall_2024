{
 "cells": [
  {
   "cell_type": "markdown",
   "id": "cddf5de3-a9f3-4471-bbaf-aca41a70ce89",
   "metadata": {},
   "source": [
    "### INST326 OOP Project 03"
   ]
  },
  {
   "cell_type": "markdown",
   "id": "2bb7f115-9eba-4f29-918e-b016e6a7edc8",
   "metadata": {},
   "source": [
    "Rename this notebook, replacing \"_Assignment\" with \"_YourName\"<br>\n",
    "Insert Signature Block Here"
   ]
  },
  {
   "cell_type": "markdown",
   "id": "8ee05bdb-db2d-41c2-9f23-3af75d058612",
   "metadata": {},
   "source": [
    "### The Project\n",
    "Everyone will do the same project this time. This is a group project, so you must work in your assigned groups. Include the link to your group's GitHub repository (one link per group). Use comments in your code to document your solution. If you need to write comments to the grader, add a markdown cell immediately above your code solution and add your comments there. Be sure to read and follow all the requirements and the Notebook Instructions at the bottom of this notebook. Your grade may depend on it!"
   ]
  },
  {
   "cell_type": "markdown",
   "id": "a1c98e85-2c64-4a03-8309-d91035cca6d2",
   "metadata": {},
   "source": [
    "#### 1. A Scheduling Program\r",
    ">  My wife is responsible for scheduling caregivers for her 93 year-old mother. Currently she writes out the schedule on a monthly calendar and photocopies it for everyone. I want all of you to help me write a program to help her with scheduling. While this is a specific application, this program will be broadly useful and adaptable to any scheduling needs for small businesses, clubs, and more."
   ]
  },
  {
   "cell_type": "markdown",
   "id": "28b28d8a-dbb3-4f15-bbe0-e14504b84876",
   "metadata": {},
   "source": [
    "#### Requirements\n",
    ">  Care is required 12 hours per day, 7 days a week. There are two shifts each day: 7:00 AM - 1:00 PM, and 1:00 PM to 7:00 PM. There are a total of 8 caregivers. Some are family members and some are paid. Each caregiver has their own availability for shifts that is generally the same from month to month, but there are exceptions for work, vacations, and other responsibilities. Your program should do the following:\n",
    "> 1. Manage caregivers and their schedules. Attributes include: name, phone, email, pay rate, and hours.\n",
    "> 2. Each caregiver should have their own availability schedule where they can indicate their availability for each shift. Availability categories are 'preferred', 'available' (default), and 'unavailable'.\n",
    "> 3. Create a care schedule that covers AM and PM shifts and displays caregiver names on a calendar (see example). The schedule should accomodate caregivers' individual schedules and availability preferences. The python calendar module provides options for creating HTML calendars. Sample code for the HTML calendar is in the project folder.\n",
    "> 4. Paid caregivers are paid weekly at $20/hr. Your program should calculate weekly pay based on assigned hours. Provide a separate pay report that lists weekly (gross: hours x rate) amounts to each caregiver, along with weekly and monthly totals. The report can be a text document, or presented in GUI or HTML format. "
   ]
  },
  {
   "cell_type": "markdown",
   "id": "6708f6cf-aac7-430e-947d-6f9c8dd161f6",
   "metadata": {
    "jp-MarkdownHeadingCollapsed": true
   },
   "source": [
    "#### Group Requirements\n",
    ">  1. Your submitted project should follow OOP principles like abstraction, encapsulation, inheritance, and polymorphism as appropriate. Your program should use classes. \n",
    ">  2. Select a group leader who will host the group's project repository on their GitHub.\n",
    ">  3. Create the group repository and add a main program document. See example.\n",
    ">  4. Create branches off the main program for each group member, and assign part of the program to each member.\n",
    ">  5. Each member should work on their branch.\n",
    ">  6. When each member is finished, merge the branches back into the main program. You may use 'merge' or 'pull requests', your choice.\n",
    ">  7. iterate and debug as necessary."
   ]
  },
  {
   "cell_type": "markdown",
   "id": "71b8f18e-607a-4c94-81a3-ebbc488ba8c6",
   "metadata": {},
   "source": [
    "#### Working with HTML\n",
    "> Since this is a course on python, not HTML, you are not expected to know HTML. Therefore, you may copy applicable portions of the sample code or use AI to write the HTML portions of your application. Ypu should write the main python code yourself.\n"
   ]
  },
  {
   "cell_type": "markdown",
   "id": "fc336368-4292-42af-aa60-06b27ff6b303",
   "metadata": {
    "jp-MarkdownHeadingCollapsed": true
   },
   "source": [
    "#### What you need to turn in\n",
    ">  This is a group project. There will be one submission per group. Your submission will be graded as a group.\n",
    ">  1. Include your group number and the names of all group members in the signature block at the top of this notebook.\n",
    ">  2. In the cell below, paste the link to your project repository. One link per group. The grader will review the activity and history provided by GitHub. To add a hyperlink to a Jupyter markdown cell, follow the instructions in the cell below.\n",
    ">  3. Below the GitHub Repository Link cell is a code cell. Copy and paste your final program code into this cell."
   ]
  },
  {
   "cell_type": "markdown",
   "id": "3ece03e6-a41f-484d-8417-d8c4e156b2c0",
   "metadata": {},
   "source": [
    "#### GitHub Repository Link\n",
    "> Example: [INST326_Fall2024/Projects/Project03](https://github.com/sdempwolf/INST326_Fall_2024/tree/main/Projects/Project03)\n",
    ">\n",
    "> Edit the link code below with your information, then run this cell. Test the link! It should take you to your GitHub project repository.\n",
    "> [external link text](http://url_here)"
   ]
  },
  {
   "cell_type": "code",
   "execution_count": null,
   "id": "cb35b908-6683-4144-816c-051715925504",
   "metadata": {},
   "outputs": [],
   "source": [
    "from abc import ABC, abstractmethod\n",
    "import calendar\n",
    "import random\n",
    "\n",
    "class Schedule:\n",
    "    shifts = [\"7:00AM - 1:00PM\", \"1:00PM - 7:00PM\"]\n",
    "\n",
    "    def __init__(self, year, month):\n",
    "        self._num_days = calendar.monthrange(year, month)[1]\n",
    "        self._schedule = {\n",
    "            day: {shift: None for shift in Schedule.shifts}\n",
    "            for day in range(1, self._num_days + 1)\n",
    "        }\n",
    "\n",
    "    @property\n",
    "    def schedule(self):\n",
    "        return self._schedule\n",
    "\n",
    "    @property\n",
    "    def num_days(self):\n",
    "        return self._num_days\n",
    "\n",
    "    def set_shift(self, caregiver_name, day, shift_num):\n",
    "        if day in self._schedule and 0 <= shift_num < len(Schedule.shifts):\n",
    "            shift = Schedule.shifts[shift_num]\n",
    "            self._schedule[day][shift] = caregiver_name\n",
    "\n",
    "\n",
    "class Caregiver:\n",
    "    def __init__(self, name, phone, email, pay_rate):\n",
    "        self.name = name\n",
    "        self.phone = phone\n",
    "        self.email = email\n",
    "        self.pay_rate = pay_rate\n",
    "        self.hours_worked = 0\n",
    "        self.schedule = None  #availability schedule later \n",
    "\n",
    "    def set_schedule(self, year, month):\n",
    "        self.schedule = AvailabilitySchedule(year, month)\n",
    "\n",
    "\n",
    "class AvailabilitySchedule(Schedule):\n",
    "    def __init__(self, year, month):\n",
    "        super().__init__(year, month)\n",
    "        for day in self._schedule:\n",
    "            for shift in self._schedule[day]:\n",
    "                self._schedule[day][shift] = \"Available\"\n",
    "\n",
    "    def set_preferred(self, day, shift_num):\n",
    "        if day in self._schedule and 0 <= shift_num < len(Schedule.shifts):\n",
    "            shift = Schedule.shifts[shift_num]\n",
    "            self._schedule[day][shift] = \"Preferred\"\n",
    "\n",
    "    def set_unavailable(self, day, shift_num):\n",
    "        if day in self._schedule and 0 <= shift_num < len(Schedule.shifts):\n",
    "            shift = Schedule.shifts[shift_num]\n",
    "            self._schedule[day][shift] = \"Unavailable\"\n",
    "\n",
    "\n",
    "class CareSchedule(Schedule):\n",
    "    def __init__(self, year, month):\n",
    "        super().__init__(year, month)\n",
    "\n",
    "    def assign_shift(self, caregiver, day, shift_num):\n",
    "        if day in self.schedule and 0 <= shift_num < len(Schedule.shifts):\n",
    "            shift = Schedule.shifts[shift_num]\n",
    "            if caregiver.schedule.schedule[day][shift] in (\"Available\", \"Preferred\"):\n",
    "                self.schedule[day][shift] = caregiver.name\n",
    "                caregiver.hours_worked += 6  # Assuming each shift is 6 hours\n",
    "\n",
    "    def generate_schedule(self, caregivers):\n",
    "        for day in range(1, self.num_days + 1):\n",
    "            for shift_num in range(len(Schedule.shifts)):\n",
    "                if self.schedule[day][Schedule.shifts[shift_num]] is None:\n",
    "                    for caregiver in caregivers:\n",
    "                        if caregiver.schedule.schedule[day][Schedule.shifts[shift_num]] == \"Preferred\":\n",
    "                            self.assign_shift(caregiver, day, shift_num)\n",
    "                            break\n",
    "                    else:\n",
    "                        for caregiver in caregivers:\n",
    "                            if caregiver.schedule.schedule[day][Schedule.shifts[shift_num]] == \"Available\":\n",
    "                                self.assign_shift(caregiver, day, shift_num)\n",
    "                                break\n",
    "\n",
    "\n",
    "class HiredCaregivers:\n",
    "    def __init__(self):\n",
    "        self.caregivers = []\n",
    "\n",
    "    def add_caregiver(self, caregiver):\n",
    "        self.caregivers.append(caregiver)\n",
    "\n",
    "    def remove_caregiver(self, caregiver_name):\n",
    "        self.caregivers = [c for c in self.caregivers if c.name != caregiver_name]\n",
    "\n",
    "    def report(self):\n",
    "        print(\"Caregiver Pay Report:\")\n",
    "        total_weekly_pay = 0\n",
    "        total_monthly_pay = 0\n",
    "\n",
    "        for caregiver in self.caregivers:\n",
    "            weekly_hours = min(caregiver.hours_worked, 40)  # Assuming max weekly hours\n",
    "            monthly_hours = weekly_hours * 4\n",
    "            weekly_pay = weekly_hours * caregiver.pay_rate\n",
    "            monthly_pay = monthly_hours * caregiver.pay_rate\n",
    "\n",
    "            total_weekly_pay += weekly_pay\n",
    "            total_monthly_pay += monthly_pay\n",
    "\n",
    "            print(f\"{caregiver.name}:\")\n",
    "            print(f\"  Weekly Hours: {weekly_hours}, Weekly Pay: ${weekly_pay:.2f}\")\n",
    "            print(f\"  Monthly Hours: {monthly_hours}, Monthly Pay: ${monthly_pay:.2f}\")\n",
    "\n",
    "        print(f\"Total Weekly Pay: ${total_weekly_pay:.2f}\")\n",
    "        print(f\"Total Monthly Pay: ${total_monthly_pay:.2f}\")\n",
    "\n",
    "\n"
   ]
  },
  {
   "cell_type": "markdown",
   "id": "ec8ddd19-87cd-475d-a07f-7dc8983dc636",
   "metadata": {},
   "source": [
    "### Notebook Instructions\n",
    "> Before turning in your notebook:\n",
    "> 1. Make sure you have renamed the notebook file as instructed\n",
    "> 2. Make sure you have included your signature block and that it is correct according to the instructions\n",
    "> 3. comment your code as necessary\n",
    "> 4. run all code cells and double check that they run correctly. If you can't get your code to run correctly and you want partial credit, add a note for the grader in a new markdown cell directly above your code solution.<br><br>\n",
    "Turn in your notebook by uploading it to ELMS<br>\n",
    "IF the exercises involve saved data files, put your notebook and the data file(s) in a zip folder and upload the zip folder to ELMS"
   ]
  },
  {
   "cell_type": "code",
   "execution_count": null,
   "id": "c2f96be2-9bc0-46ea-98fb-51d8c07c7de8",
   "metadata": {},
   "outputs": [],
   "source": []
  }
 ],
 "metadata": {
  "kernelspec": {
   "display_name": "Python 3 (ipykernel)",
   "language": "python",
   "name": "python3"
  },
  "language_info": {
   "codemirror_mode": {
    "name": "ipython",
    "version": 3
   },
   "file_extension": ".py",
   "mimetype": "text/x-python",
   "name": "python",
   "nbconvert_exporter": "python",
   "pygments_lexer": "ipython3",
   "version": "3.12.4"
  }
 },
 "nbformat": 4,
 "nbformat_minor": 5
}
