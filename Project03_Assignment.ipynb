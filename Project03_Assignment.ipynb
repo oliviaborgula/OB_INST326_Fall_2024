{
 "cells": [
  {
   "cell_type": "markdown",
   "id": "cddf5de3-a9f3-4471-bbaf-aca41a70ce89",
   "metadata": {},
   "source": [
    "### INST326 OOP Project 03"
   ]
  },
  {
   "cell_type": "markdown",
   "id": "2bb7f115-9eba-4f29-918e-b016e6a7edc8",
   "metadata": {},
   "source": [
    "Rename this notebook, replacing \"_Assignment\" with \"_YourName\"<br>\n",
    "Insert Signature Block Here"
   ]
  },
  {
   "cell_type": "markdown",
   "id": "8ee05bdb-db2d-41c2-9f23-3af75d058612",
   "metadata": {},
   "source": [
    "### The Project\n",
    "Everyone will do the same project this time. This is a group project, so you must work in your assigned groups. Include the link to your group's GitHub repository (one link per group). Use comments in your code to document your solution. If you need to write comments to the grader, add a markdown cell immediately above your code solution and add your comments there. Be sure to read and follow all the requirements and the Notebook Instructions at the bottom of this notebook. Your grade may depend on it!"
   ]
  },
  {
   "cell_type": "markdown",
   "id": "a1c98e85-2c64-4a03-8309-d91035cca6d2",
   "metadata": {},
   "source": [
    "#### 1. A Scheduling Program\n",
    ">  My wife is responsible for scheduling caregivers for her 93 year-old mother. Currently she writes out the schedule on a monthly calendar and photocopies it for everyone. I want all of you to help me write a program to help her with scheduling. While this is a specific application, this program will be broadly useful and adaptable to any scheduling needs for small businesses, clubs, and more."
   ]
  },
  {
   "cell_type": "markdown",
   "id": "28b28d8a-dbb3-4f15-bbe0-e14504b84876",
   "metadata": {},
   "source": [
    "#### Requirements\n",
    ">  Care is required 12 hours per day, 7 days a week. There are two shifts each day: 7:00 AM - 1:00 PM, and 1:00 PM to 7:00 PM. There are a total of 8 caregivers. Some are family members and some are paid. Each caregiver has their own availability for shifts that is generally the same from month to month, but there are exceptions for work, vacations, and other responsibilities. Your program should do the following:\n",
    "> 1. Manage caregivers and their schedules. Attributes include: name, phone, email, pay rate, and hours.\n",
    "> 2. Each caregiver should have their own availability schedule where they can indicate their availability for each shift. Availability categories are 'preferred', 'available' (default), and 'unavailable'.\n",
    "> 3. Create a care schedule that covers AM and PM shifts and displays caregiver names on a calendar (see example). The schedule should accomodate caregivers' individual schedules and availability preferences. The python calendar module provides options for creating HTML calendars. Sample code for the HTML calendar is in the project folder.\n",
    "> 4. Paid caregivers are paid weekly at $20/hr. Your program should calculate weekly pay based on assigned hours. Provide a separate pay report that lists weekly (gross: hours x rate) amounts to each caregiver, along with weekly and monthly totals. The report can be a text document, or presented in GUI or HTML format. "
   ]
  },
  {
   "cell_type": "markdown",
   "id": "6708f6cf-aac7-430e-947d-6f9c8dd161f6",
   "metadata": {
    "jp-MarkdownHeadingCollapsed": true
   },
   "source": [
    "#### Group Requirements\n",
    ">  1. Your submitted project should follow OOP principles like abstraction, encapsulation, inheritance, and polymorphism as appropriate. Your program should use classes. \n",
    ">  2. Select a group leader who will host the group's project repository on their GitHub.\n",
    ">  3. Create the group repository and add a main program document. See example.\n",
    ">  4. Create branches off the main program for each group member, and assign part of the program to each member.\n",
    ">  5. Each member should work on their branch.\n",
    ">  6. When each member is finished, merge the branches back into the main program. You may use 'merge' or 'pull requests', your choice.\n",
    ">  7. iterate and debug as necessary."
   ]
  },
  {
   "cell_type": "markdown",
   "id": "71b8f18e-607a-4c94-81a3-ebbc488ba8c6",
   "metadata": {},
   "source": [
    "#### Working with HTML\n",
    "> Since this is a course on python, not HTML, you are not expected to know HTML. Therefore, you may copy applicable portions of the sample code or use AI to write the HTML portions of your application. Ypu should write the main python code yourself.\n"
   ]
  },
  {
   "cell_type": "markdown",
   "id": "fc336368-4292-42af-aa60-06b27ff6b303",
   "metadata": {
    "jp-MarkdownHeadingCollapsed": true
   },
   "source": [
    "#### What you need to turn in\n",
    ">  This is a group project. There will be one submission per group. Your submission will be graded as a group.\n",
    ">  1. Include your group number and the names of all group members in the signature block at the top of this notebook.\n",
    ">  2. In the cell below, paste the link to your project repository. One link per group. The grader will review the activity and history provided by GitHub. To add a hyperlink to a Jupyter markdown cell, follow the instructions in the cell below.\n",
    ">  3. Below the GitHub Repository Link cell is a code cell. Copy and paste your final program code into this cell."
   ]
  },
  {
   "cell_type": "markdown",
   "id": "3ece03e6-a41f-484d-8417-d8c4e156b2c0",
   "metadata": {},
   "source": [
    "#### GitHub Repository Link\n",
    "> Example: [INST326_Fall2024/Projects/Project03](https://github.com/sdempwolf/INST326_Fall_2024/tree/main/Projects/Project03)\n",
    ">\n",
    "> Edit the link code below with your information, then run this cell. Test the link! It should take you to your GitHub project repository.\n",
    "> [external link text](http://url_here)"
   ]
  },
  {
   "cell_type": "code",
   "execution_count": null,
   "id": "d18a6877-6c29-4992-a372-77a28076c59f",
   "metadata": {},
   "outputs": [],
   "source": [
    "''' Notes\n",
    "- Create abstact schedule class\n",
    "- after creating schedule class, create subclass\n",
    "- create caregiver class\n",
    "- \n",
    "\n",
    "\n",
    "\n",
    "\n",
    "'''"
   ]
  },
  {
   "cell_type": "code",
   "execution_count": null,
   "id": "733e8ccf-9d7a-4e6d-aa6a-9fb5aad910e5",
   "metadata": {},
   "outputs": [],
   "source": [
    "# Cell 1 - Jerry\n",
    "from abc import ABC, abstractmethod\n",
    "import calendar\n",
    "import random\n",
    "\n",
<<<<<<< HEAD
    "# Abstract class Schedule\n",
    "class Schedule(ABC):\n",
=======
    "class Schedule(ABC):\n",
    "\n",
>>>>>>> 590e5d51d7f8bef8f5af4d87b368bbeeb2f0d5fc
    "    shifts = [\"7:00AM - 1:00PM\", \"1:00PM - 7:00PM\"]\n",
    "\n",
    "    def __init__(self, year, month):\n",
    "        self.num_days = calendar.monthrange(year, month)[1]  # Number of days in the month\n",
    "        self.schedule = {}\n",
    "\n",
    "        # Initialize schedule with None for each shift\n",
    "        for day in range(1, self.num_days + 1):\n",
    "            self.schedule[day] = {\n",
    "                Schedule.shifts[0]: None,\n",
<<<<<<< HEAD
    "                Schedule.shifts[1]: None\n",
    "            }\n",
    "\n",
=======
    "                Schedule.shifts[1]: None    \n",
    "        }\n",
    "    \n",
    "    @abstractmethod\n",
>>>>>>> 590e5d51d7f8bef8f5af4d87b368bbeeb2f0d5fc
    "    @property\n",
    "    def num_days(self):\n",
    "        return self.num_days\n",
    "\n",
    "    # Method to set a specific shift to a given word\n",
    "    def set_shift(self, word, day, shift_num):\n",
    "        if day in self.schedule and 0 <= shift_num < len(Schedule.shifts):\n",
    "            self.schedule[day][Schedule.shifts[shift_num]] = word\n",
    "    \n",
    "\n",
    "class CareSchedule(Schedule):\n",
    "\n",
    "    def __init__(self, year, month):\n",
    "        super().__init__(year, month)\n",
    "    \n",
    "    # Adds caregiver's preferred shifts onto schedule\n",
    "    def schedule_preferred(self, caregiver_list, available_list):\n",
    "        for caregiver in range(caregiver_list.length()):\n",
    "\n",
    "            #current caregiver selected\n",
    "            current_caregiver = caregiver_list[caregiver]\n",
    "            #current caregiver's availability schedule selected\n",
    "            current_availability = available_list[caregiver].schedule\n",
    "        \n",
    "        \n",
    "            for day in range(1, self.num_days+1):\n",
    "                    current_availability_day = current_availability.get(day,{})\n",
    "                    #shifts for the specific day\n",
    "                    shifts_for_day = self._schedule.get(day, {})\n",
    "                    \n",
    "                    #checks if AM shift is empty\n",
    "                    if shifts_for_day.get(\"7:00AM - 1:00PM\") is None:\n",
    "                        if current_availability_day.get(\"7:00AM - 1:00PM\") == \"Preferred\":\n",
<<<<<<< HEAD
    "                            #self._schedule[day][\"7:00AM - 1:00PM\"] = current_caregiver.name\n",
    "                            self.set_shift(current_caregiver.name, day, 0)\n",
=======
    "                            self.setShift(current_caregiver.name, day, 0)\n",
>>>>>>> 590e5d51d7f8bef8f5af4d87b368bbeeb2f0d5fc
    "\n",
    "                    #Checks if PM shift is empty\n",
    "                    else:\n",
    "                        if shifts_for_day.get(\"1:00PM - 7:00PM\") is None:\n",
    "                            if current_availability_day.get(\"1:00PM - 7:00PM\") == \"Preferred\":\n",
<<<<<<< HEAD
    "                                #self._schedule[day][\"1:00PM - 7:00PM\"] = current_caregiver.name\n",
    "                                self.set_shift(current_caregiver.name, day, 1)\n",
=======
    "                                self.setShift(current_caregiver.name, day, 1)\n",
>>>>>>> 590e5d51d7f8bef8f5af4d87b368bbeeb2f0d5fc
    "    \n",
    "    #schedules empty shifts with random caregiver with \"available\" on that day's shifts\n",
    "    def schedule_available(self, caregiver_list, available_list):    \n",
    "\n",
    "        #goes through every day of the specific month\n",
    "        for day in range(1, self.num_days+1):\n",
    "\n",
    "            #checks and assigns AM shifts\n",
    "            if self._schedule[day][\"7:00AM - 1:00PM\"] is None:\n",
    "\n",
    "                #loops until a caregiver is assigned to the AM shift\n",
    "                while self._schedule[day][\"7:00AM - 1:00PM\"] is None:\n",
    "                    #selects a random caregiver\n",
    "                    randnum = random.randint(caregiver_list.length())\n",
    "                    random_caregiver = caregiver_list.caregivers[randnum]\n",
    "                    random_available = available_list[randnum]\n",
    "                    #checks for availability  and assigns caregiver accordingly\n",
    "                    if random_caregiver.schedule[day][\"7:00AM - 1:00PM\"] == \"Available\":\n",
<<<<<<< HEAD
    "                        #self._schedule[day][\"7:00AM - 1:00PM\"] = random_caregiver.name\n",
    "                        self.set_shift(random_caregiver.name, day, 0)\n",
=======
    "                    \n",
    "                        self.setShift(random_caregiver.name, day, 0)\n",
>>>>>>> 590e5d51d7f8bef8f5af4d87b368bbeeb2f0d5fc
    "\n",
    "            #checks and assigns PM shifts\n",
    "            if self._schedule[day][\"1:00PM - 7:00PM\"] is None:\n",
    "\n",
    "                #loops until a caregiver is assigned to the PM shift\n",
    "                while self._schedule[day][\"1:00PM - 7:00PM\"] is None:\n",
    "                    #selects a random caregiver\n",
    "                    randnum = random.randint(caregiver_list.length())\n",
    "                    random_caregiver = caregiver_list.caregivers[randnum]\n",
    "                    random_available = available_list[randnum]\n",
    "                    #checks for availability and assigns caregiver accordingly\n",
    "                    if random_caregiver.schedule[day][\"1:00PM - 7:00PM\"] == \"Available\":\n",
    "                        self.set_shift(random_caregiver.name, day, 1)\n",
    "            \n",
    "\n",
    "    #assigns shift to caregivers using their availibility schedule\n",
    "    def generate_schedule(self, HiredCaregiver):\n",
    "        caregiver_list = HiredCaregiver.caregiver_list\n",
    "\n",
    "        self.schedule_preferred(caregiver_list)\n",
    "        self.schedule_available(caregiver_list)\n",
    "\n",
    "                \n",
    "\n",
    "    def display_schedule_as_html(self, year, month):\n",
    "        # Create the HTML structure\n",
    "        html_schedule = f\"\"\"\n",
    "        <html>\n",
    "        <head>\n",
    "            <title>Work Schedule for {calendar.month_name[month]} {year}</title>\n",
    "            <style>\n",
    "                table {{\n",
    "                    border-collapse: collapse;\n",
    "                    width: 100%;\n",
    "                    margin: 20px 0;\n",
    "                }}\n",
    "                th, td {{\n",
    "                    border: 1px solid black;\n",
    "                    padding: 10px;\n",
    "                    text-align: center;\n",
    "                }}\n",
    "                th {{\n",
    "                    background-color: #f2f2f2;\n",
    "                }}\n",
    "                td {{\n",
    "                    height: 100px;\n",
    "                    vertical-align: top;\n",
    "                }}\n",
    "            </style>\n",
    "        </head>\n",
    "        <body>\n",
    "            <h1>Work Schedule for {calendar.month_name[month]} {year}</h1>\n",
    "            <table>\n",
    "                <tr>\n",
    "                    <th>Mon</th>\n",
    "                    <th>Tue</th>\n",
    "                    <th>Wed</th>\n",
    "                    <th>Thu</th>\n",
    "                    <th>Fri</th>\n",
    "                    <th>Sat</th>\n",
    "                    <th>Sun</th>\n",
    "                </tr>\n",
    "        \"\"\"\n",
    "        \n",
    "        # Get the first weekday of the month and the total days\n",
    "        first_weekday, num_days = calendar.monthrange(year, month)\n",
    "\n",
    "        # Fill in the days of the month\n",
    "        current_day = 1\n",
    "        for week in range((num_days + first_weekday) // 7 + 1):\n",
    "            html_schedule += \"<tr>\"\n",
    "            for day in range(7):\n",
    "                if (week == 0 and day < first_weekday) or current_day > num_days:\n",
    "                    html_schedule += \"<td></td>\"  # Empty cell for days outside the month\n",
    "                else:\n",
    "                    # Add the day and the assigned shifts\n",
    "                    shifts_for_day = self._schedule.get(current_day, {})\n",
    "                    morning_shift = shifts_for_day.get(\"7:00AM - 1:00PM\", \"N/A\")\n",
    "                    afternoon_shift = shifts_for_day.get(\"1:00PM - 7:00PM\", \"N/A\")\n",
    "\n",
    "                    html_schedule += f\"<td>{current_day}<br><b>AM:</b> {morning_shift}<br><b>PM:</b> {afternoon_shift}</td>\"\n",
    "                    current_day += 1\n",
    "            html_schedule += \"</tr>\"\n",
    "\n",
    "        # Close the table and HTML\n",
    "        html_schedule += \"\"\"\n",
    "            </table>\n",
    "        </body>\n",
    "        </html>\n",
    "        \"\"\"\n",
    "        \n",
    "        # Write the HTML content to a file\n",
    "        with open(f\"work_schedule_{year}_{month}.html\", \"w\") as file:\n",
    "            file.write(html_schedule)\n",
    "\n",
    "        print(f\"HTML work schedule for {calendar.month_name[month]} {year} generated successfully!\")\n",
    "\n",
    "            \n",
    "\n",
    "            "
   ]
  },
  {
   "cell_type": "code",
   "execution_count": null,
   "id": "88e4ba73-bf14-4945-888b-c6b29fb62039",
   "metadata": {},
   "outputs": [],
   "source": [
    "# Cell 2 - Olivia"
   ]
  },
  {
   "cell_type": "code",
   "execution_count": null,
   "id": "e1f6fa40-cc1e-419f-a25f-03764c1f7538",
   "metadata": {},
   "outputs": [],
   "source": [
    "# Cell 3 - Adiyan"
   ]
  },
  {
   "cell_type": "code",
   "execution_count": null,
   "id": "cb35b908-6683-4144-816c-051715925504",
   "metadata": {},
   "outputs": [],
   "source": [
    "# Solution - enter your code solution below\n"
   ]
  },
  {
   "cell_type": "markdown",
   "id": "ec8ddd19-87cd-475d-a07f-7dc8983dc636",
   "metadata": {},
   "source": [
    "### Notebook Instructions\n",
    "> Before turning in your notebook:\n",
    "> 1. Make sure you have renamed the notebook file as instructed\n",
    "> 2. Make sure you have included your signature block and that it is correct according to the instructions\n",
    "> 3. comment your code as necessary\n",
    "> 4. run all code cells and double check that they run correctly. If you can't get your code to run correctly and you want partial credit, add a note for the grader in a new markdown cell directly above your code solution.<br><br>\n",
    "Turn in your notebook by uploading it to ELMS<br>\n",
    "IF the exercises involve saved data files, put your notebook and the data file(s) in a zip folder and upload the zip folder to ELMS"
   ]
  },
  {
   "cell_type": "code",
   "execution_count": null,
   "id": "c2f96be2-9bc0-46ea-98fb-51d8c07c7de8",
   "metadata": {},
   "outputs": [],
   "source": []
  }
 ],
 "metadata": {
  "kernelspec": {
   "display_name": "base",
   "language": "python",
   "name": "python3"
  },
  "language_info": {
   "codemirror_mode": {
    "name": "ipython",
    "version": 3
   },
   "file_extension": ".py",
   "mimetype": "text/x-python",
   "name": "python",
   "nbconvert_exporter": "python",
   "pygments_lexer": "ipython3",
   "version": "3.12.4"
  }
 },
 "nbformat": 4,
 "nbformat_minor": 5
}
