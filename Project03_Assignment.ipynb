{
 "cells": [
  {
   "cell_type": "markdown",
   "id": "cddf5de3-a9f3-4471-bbaf-aca41a70ce89",
   "metadata": {},
   "source": [
    "### INST326 OOP Project 03"
   ]
  },
  {
   "cell_type": "markdown",
   "id": "2bb7f115-9eba-4f29-918e-b016e6a7edc8",
   "metadata": {},
   "source": [
    "Rename this notebook, replacing \"_Assignment\" with \"_YourName\"<br>\n",
    "Insert Signature Block Here"
   ]
  },
  {
   "cell_type": "markdown",
   "id": "8ee05bdb-db2d-41c2-9f23-3af75d058612",
   "metadata": {},
   "source": [
    "### The Project\n",
    "Everyone will do the same project this time. This is a group project, so you must work in your assigned groups. Include the link to your group's GitHub repository (one link per group). Use comments in your code to document your solution. If you need to write comments to the grader, add a markdown cell immediately above your code solution and add your comments there. Be sure to read and follow all the requirements and the Notebook Instructions at the bottom of this notebook. Your grade may depend on it!"
   ]
  },
  {
   "cell_type": "markdown",
   "id": "a1c98e85-2c64-4a03-8309-d91035cca6d2",
   "metadata": {},
   "source": [
    "#### 1. A Scheduling Program\n",
    ">  My wife is responsible for scheduling caregivers for her 93 year-old mother. Currently she writes out the schedule on a monthly calendar and photocopies it for everyone. I want all of you to help me write a program to help her with scheduling. While this is a specific application, this program will be broadly useful and adaptable to any scheduling needs for small businesses, clubs, and more."
   ]
  },
  {
   "cell_type": "markdown",
   "id": "28b28d8a-dbb3-4f15-bbe0-e14504b84876",
   "metadata": {},
   "source": [
    "#### Requirements\n",
    ">  Care is required 12 hours per day, 7 days a week. There are two shifts each day: 7:00 AM - 1:00 PM, and 1:00 PM to 7:00 PM. There are a total of 8 caregivers. Some are family members and some are paid. Each caregiver has their own availability for shifts that is generally the same from month to month, but there are exceptions for work, vacations, and other responsibilities. Your program should do the following:\n",
    "> 1. Manage caregivers and their schedules. Attributes include: name, phone, email, pay rate, and hours.\n",
    "> 2. Each caregiver should have their own availability schedule where they can indicate their availability for each shift. Availability categories are 'preferred', 'available' (default), and 'unavailable'.\n",
    "> 3. Create a care schedule that covers AM and PM shifts and displays caregiver names on a calendar (see example). The schedule should accomodate caregivers' individual schedules and availability preferences. The python calendar module provides options for creating HTML calendars. Sample code for the HTML calendar is in the project folder.\n",
    "> 4. Paid caregivers are paid weekly at $20/hr. Your program should calculate weekly pay based on assigned hours. Provide a separate pay report that lists weekly (gross: hours x rate) amounts to each caregiver, along with weekly and monthly totals. The report can be a text document, or presented in GUI or HTML format. "
   ]
  },
  {
   "cell_type": "markdown",
   "id": "6708f6cf-aac7-430e-947d-6f9c8dd161f6",
   "metadata": {
    "jp-MarkdownHeadingCollapsed": true
   },
   "source": [
    "#### Group Requirements\n",
    ">  1. Your submitted project should follow OOP principles like abstraction, encapsulation, inheritance, and polymorphism as appropriate. Your program should use classes. \n",
    ">  2. Select a group leader who will host the group's project repository on their GitHub.\n",
    ">  3. Create the group repository and add a main program document. See example.\n",
    ">  4. Create branches off the main program for each group member, and assign part of the program to each member.\n",
    ">  5. Each member should work on their branch.\n",
    ">  6. When each member is finished, merge the branches back into the main program. You may use 'merge' or 'pull requests', your choice.\n",
    ">  7. iterate and debug as necessary."
   ]
  },
  {
   "cell_type": "markdown",
   "id": "71b8f18e-607a-4c94-81a3-ebbc488ba8c6",
   "metadata": {},
   "source": [
    "#### Working with HTML\n",
    "> Since this is a course on python, not HTML, you are not expected to know HTML. Therefore, you may copy applicable portions of the sample code or use AI to write the HTML portions of your application. Ypu should write the main python code yourself.\n"
   ]
  },
  {
   "cell_type": "markdown",
   "id": "fc336368-4292-42af-aa60-06b27ff6b303",
   "metadata": {
    "jp-MarkdownHeadingCollapsed": true
   },
   "source": [
    "#### What you need to turn in\n",
    ">  This is a group project. There will be one submission per group. Your submission will be graded as a group.\n",
    ">  1. Include your group number and the names of all group members in the signature block at the top of this notebook.\n",
    ">  2. In the cell below, paste the link to your project repository. One link per group. The grader will review the activity and history provided by GitHub. To add a hyperlink to a Jupyter markdown cell, follow the instructions in the cell below.\n",
    ">  3. Below the GitHub Repository Link cell is a code cell. Copy and paste your final program code into this cell."
   ]
  },
  {
   "cell_type": "markdown",
   "id": "3ece03e6-a41f-484d-8417-d8c4e156b2c0",
   "metadata": {},
   "source": [
    "#### GitHub Repository Link\n",
    "> Example: [INST326_Fall2024/Projects/Project03](https://github.com/sdempwolf/INST326_Fall_2024/tree/main/Projects/Project03)\n",
    ">\n",
    "> Edit the link code below with your information, then run this cell. Test the link! It should take you to your GitHub project repository.\n",
    "> [external link text](http://url_here)"
   ]
  },
  {
   "cell_type": "code",
   "execution_count": null,
   "id": "d18a6877-6c29-4992-a372-77a28076c59f",
   "metadata": {},
   "outputs": [],
   "source": [
    "''' Notes\n",
    "- Create abstact schedule class\n",
    "- after creating schedule class, create subclass\n",
    "- create caregiver class\n",
    "- \n",
    "\n",
    "\n",
    "\n",
    "\n",
    "'''"
   ]
  },
  {
   "cell_type": "code",
   "execution_count": null,
   "id": "733e8ccf-9d7a-4e6d-aa6a-9fb5aad910e5",
   "metadata": {},
   "outputs": [],
   "source": [
    "# Cell 1 - Jerry"
   ]
  },
  {
   "cell_type": "code",
   "execution_count": 7,
   "id": "88e4ba73-bf14-4945-888b-c6b29fb62039",
   "metadata": {},
   "outputs": [
    {
     "ename": "NameError",
     "evalue": "name 'Schedule' is not defined",
     "output_type": "error",
     "traceback": [
      "\u001b[0;31m---------------------------------------------------------------------------\u001b[0m",
      "\u001b[0;31mNameError\u001b[0m                                 Traceback (most recent call last)",
      "Cell \u001b[0;32mIn[7], line 5\u001b[0m\n\u001b[1;32m      1\u001b[0m \u001b[38;5;66;03m# Cell 2 - Olivia\u001b[39;00m\n\u001b[1;32m      2\u001b[0m \n\u001b[1;32m      3\u001b[0m \u001b[38;5;66;03m#subclass: AvailabilitySchedule\u001b[39;00m\n\u001b[0;32m----> 5\u001b[0m \u001b[38;5;28;01mclass\u001b[39;00m \u001b[38;5;21;01mAvailabilitySchedule\u001b[39;00m(Schedule):\n\u001b[1;32m      6\u001b[0m     \u001b[38;5;28;01mdef\u001b[39;00m \u001b[38;5;21m__init__\u001b[39m(\u001b[38;5;28mself\u001b[39m, year, month):\n\u001b[1;32m      7\u001b[0m         \u001b[38;5;28msuper\u001b[39m()\u001b[38;5;241m.\u001b[39m\u001b[38;5;21m__init__\u001b[39m(year, month)\n",
      "\u001b[0;31mNameError\u001b[0m: name 'Schedule' is not defined"
     ]
    }
   ],
   "source": [
    "# Cell 2 - Olivia\n",
    "\n",
    "#subclass: AvailabilitySchedule\n",
    "\n",
    "class AvailabilitySchedule(Schedule):\n",
    "    def __init__(self, year, month):\n",
    "        super().__init__(year, month)\n",
    "        \n",
    "        #mark all shifts as available (default)\n",
    "        for day in self.schedule:\n",
    "            for shift in self.schedule[day]:\n",
    "                self.schedule[day][shift] = 'Available'\n",
    "\n",
    "    #option to set a specific day(s) to 'preferred'\n",
    "    def set_preferred(self, day):\n",
    "        if day in self.schedule:\n",
    "            for shift in self.schedule[day]:\n",
    "                self.schedule[day][shift] = 'Preferred'\n",
    "\n",
    "    #option to set specific days to unavailable \n",
    "    def set_unavailable(self, day):\n",
    "        if day in self.schedule:\n",
    "            for shift in self.schedule[day]:\n",
    "                self.schedule[day][shift] = 'Unavailable'\n",
    "\n",
    "    #option to set certain days to available \n",
    "    def set_available(self, day):\n",
    "        if day in self.schedule:\n",
    "            for shift in self.schedule[day]:\n",
    "                self.schedule[day][shift] = 'Available'"
   ]
  },
  {
   "cell_type": "code",
   "execution_count": null,
   "id": "e1f6fa40-cc1e-419f-a25f-03764c1f7538",
   "metadata": {},
   "outputs": [],
   "source": [
    "# Cell 3 - Adiyan"
   ]
  },
  {
   "cell_type": "code",
   "execution_count": 3,
   "id": "cb35b908-6683-4144-816c-051715925504",
   "metadata": {},
   "outputs": [
    {
     "ename": "AttributeError",
     "evalue": "attribute '__isabstractmethod__' of 'property' objects is not writable",
     "output_type": "error",
     "traceback": [
      "\u001b[0;31m---------------------------------------------------------------------------\u001b[0m",
      "\u001b[0;31mAttributeError\u001b[0m                            Traceback (most recent call last)",
      "Cell \u001b[0;32mIn[3], line 6\u001b[0m\n\u001b[1;32m      3\u001b[0m \u001b[38;5;28;01mimport\u001b[39;00m \u001b[38;5;21;01mcalendar\u001b[39;00m\n\u001b[1;32m      4\u001b[0m \u001b[38;5;28;01mimport\u001b[39;00m \u001b[38;5;21;01mrandom\u001b[39;00m\n\u001b[0;32m----> 6\u001b[0m \u001b[38;5;28;01mclass\u001b[39;00m \u001b[38;5;21;01mSchedule\u001b[39;00m:\n\u001b[1;32m      8\u001b[0m     shifts \u001b[38;5;241m=\u001b[39m [\u001b[38;5;124m\"\u001b[39m\u001b[38;5;124m7:00AM - 1:00PM\u001b[39m\u001b[38;5;124m\"\u001b[39m, \u001b[38;5;124m\"\u001b[39m\u001b[38;5;124m1:00PM - 7:00PM\u001b[39m\u001b[38;5;124m\"\u001b[39m]\n\u001b[1;32m     10\u001b[0m     \u001b[38;5;28;01mdef\u001b[39;00m \u001b[38;5;21m__init__\u001b[39m(\u001b[38;5;28mself\u001b[39m, year, month):\n",
      "Cell \u001b[0;32mIn[3], line 21\u001b[0m, in \u001b[0;36mSchedule\u001b[0;34m()\u001b[0m\n\u001b[1;32m     15\u001b[0m     \u001b[38;5;28;01mfor\u001b[39;00m day \u001b[38;5;129;01min\u001b[39;00m \u001b[38;5;28mrange\u001b[39m(\u001b[38;5;241m1\u001b[39m, \u001b[38;5;28mself\u001b[39m\u001b[38;5;241m.\u001b[39mnum_days \u001b[38;5;241m+\u001b[39m \u001b[38;5;241m1\u001b[39m):\n\u001b[1;32m     16\u001b[0m         \u001b[38;5;28mself\u001b[39m\u001b[38;5;241m.\u001b[39mschedule[day] \u001b[38;5;241m=\u001b[39m {\n\u001b[1;32m     17\u001b[0m             Schedule\u001b[38;5;241m.\u001b[39mshifts[\u001b[38;5;241m0\u001b[39m]: \u001b[38;5;28;01mNone\u001b[39;00m,\n\u001b[1;32m     18\u001b[0m             Schedule\u001b[38;5;241m.\u001b[39mshifts[\u001b[38;5;241m1\u001b[39m]: \u001b[38;5;28;01mNone\u001b[39;00m    \n\u001b[1;32m     19\u001b[0m     }\n\u001b[0;32m---> 21\u001b[0m \u001b[38;5;129m@abstractmethod\u001b[39m\n\u001b[1;32m     22\u001b[0m \u001b[38;5;129m@property\u001b[39m\n\u001b[1;32m     23\u001b[0m \u001b[38;5;28;01mdef\u001b[39;00m \u001b[38;5;21mnum_days\u001b[39m(\u001b[38;5;28mself\u001b[39m):\n\u001b[1;32m     24\u001b[0m     \u001b[38;5;28;01mreturn\u001b[39;00m \u001b[38;5;28mself\u001b[39m\u001b[38;5;241m.\u001b[39mnum_days\n\u001b[1;32m     26\u001b[0m \u001b[38;5;66;03m# sets specified shift to word\u001b[39;00m\n",
      "File \u001b[0;32m<frozen abc>:24\u001b[0m, in \u001b[0;36mabstractmethod\u001b[0;34m(funcobj)\u001b[0m\n",
      "\u001b[0;31mAttributeError\u001b[0m: attribute '__isabstractmethod__' of 'property' objects is not writable"
     ]
    }
   ],
   "source": [
    "# Solution - enter your code solution below\n",
    "from abc import ABC, abstractmethod\n",
    "import calendar\n",
    "import random\n",
    "\n",
    "class Schedule:\n",
    "\n",
    "    shifts = [\"7:00AM - 1:00PM\", \"1:00PM - 7:00PM\"]\n",
    "\n",
    "    def __init__(self, year, month):\n",
    "        self.num_days = calendar.monthrange(year, month)[1] #number of days in the specified month of the year\n",
    "        self.schedule = {}\n",
    "\n",
    "        #fills outs schedule shifts with none to allow it to be updated in subclasses\n",
    "        for day in range(1, self.num_days + 1):\n",
    "            self.schedule[day] = {\n",
    "                Schedule.shifts[0]: None,\n",
    "                Schedule.shifts[1]: None    \n",
    "        }\n",
    "\n",
    "    @abstractmethod\n",
    "    @property\n",
    "    def num_days(self):\n",
    "        return self.num_days\n",
    "    \n",
    "    # sets specified shift to word\n",
    "    def setShift(self, word, day, shiftNum):\n",
    "        self.schedule[day].update({Schedule.shifts[shiftNum]: word})\n",
    "\n",
    "import calendar\n",
    "from abc import ABC, abstractmethod\n",
    "\n",
    "# Abstract class Schedule\n",
    "class Schedule(ABC):\n",
    "    shifts = [\"7:00AM - 1:00PM\", \"1:00PM - 7:00PM\"]\n",
    "\n",
    "    def __init__(self, year, month):\n",
    "        self.num_days = calendar.monthrange(year, month)[1]  # Number of days in the month\n",
    "        self.schedule = {}\n",
    "\n",
    "        # Initialize schedule with None for each shift\n",
    "        for day in range(1, self.num_days + 1):\n",
    "            self.schedule[day] = {\n",
    "                Schedule.shifts[0]: None,\n",
    "                Schedule.shifts[1]: None\n",
    "            }\n",
    "\n",
    "    @abstractmethod\n",
    "    @property\n",
    "    def num_days(self):\n",
    "        return self.num_days\n",
    "\n",
    "    # Method to set a specific shift to a given word\n",
    "    def set_shift(self, word, day, shift_num):\n",
    "        if day in self.schedule and 0 <= shift_num < len(Schedule.shifts):\n",
    "            self.schedule[day][Schedule.shifts[shift_num]] = word\n",
    "\n",
    "#subclass: AvailabilitySchedule\n",
    "\n",
    "class AvailabilitySchedule(Schedule):\n",
    "    def __init__(self, year, month):\n",
    "        super().__init__(year, month)\n",
    "        \n",
    "        #mark all shifts as available (default)\n",
    "        for day in self.schedule:\n",
    "            for shift in self.schedule[day]:\n",
    "                self.schedule[day][shift] = 'Available'\n",
    "\n",
    "    #option to set a specific day(s) to 'preferred'\n",
    "    def set_preferred(self, day):\n",
    "        if day in self.schedule:\n",
    "            for shift in self.schedule[day]:\n",
    "                self.schedule[day][shift] = 'Preferred'\n",
    "\n",
    "    #option to set specific days to unavailable \n",
    "    def set_unavailable(self, day):\n",
    "        if day in self.schedule:\n",
    "            for shift in self.schedule[day]:\n",
    "                self.schedule[day][shift] = 'Unavailable'\n",
    "\n",
    "    #option to set certain days to available \n",
    "    def set_available(self, day):\n",
    "        if day in self.schedule:\n",
    "            for shift in self.schedule[day]:\n",
    "                self.schedule[day][shift] = 'Available'"
   ]
  },
  {
   "cell_type": "markdown",
   "id": "ec8ddd19-87cd-475d-a07f-7dc8983dc636",
   "metadata": {},
   "source": [
    "### Notebook Instructions\n",
    "> Before turning in your notebook:\n",
    "> 1. Make sure you have renamed the notebook file as instructed\n",
    "> 2. Make sure you have included your signature block and that it is correct according to the instructions\n",
    "> 3. comment your code as necessary\n",
    "> 4. run all code cells and double check that they run correctly. If you can't get your code to run correctly and you want partial credit, add a note for the grader in a new markdown cell directly above your code solution.<br><br>\n",
    "Turn in your notebook by uploading it to ELMS<br>\n",
    "IF the exercises involve saved data files, put your notebook and the data file(s) in a zip folder and upload the zip folder to ELMS"
   ]
  },
  {
   "cell_type": "code",
   "execution_count": null,
   "id": "c2f96be2-9bc0-46ea-98fb-51d8c07c7de8",
   "metadata": {},
   "outputs": [],
   "source": []
  }
 ],
 "metadata": {
  "kernelspec": {
   "display_name": "Python 3 (ipykernel)",
   "language": "python",
   "name": "python3"
  },
  "language_info": {
   "codemirror_mode": {
    "name": "ipython",
    "version": 3
   },
   "file_extension": ".py",
   "mimetype": "text/x-python",
   "name": "python",
   "nbconvert_exporter": "python",
   "pygments_lexer": "ipython3",
   "version": "3.12.4"
  }
 },
 "nbformat": 4,
 "nbformat_minor": 5
}
